{
 "cells": [
  {
   "cell_type": "markdown",
   "metadata": {},
   "source": [
    "# 7.1 전체구조\n",
    "- Conv, Polling\n",
    "- Affine - ReLU -> Conv - ReLU - (Pooling)"
   ]
  },
  {
   "cell_type": "markdown",
   "metadata": {},
   "source": [
    "# 7.2 합성곱 계층\n",
    "- Padding, Stride"
   ]
  },
  {
   "cell_type": "markdown",
   "metadata": {},
   "source": [
    "## 7.2.1 완전연결 계층의 문제점\n",
    "- Affine \n",
    "  - 데이터 형상이 무시된다. \n",
    "  - 이미지는 3차원 형상, 이 형상에는 소장한 공간적 정보가 담겨 있다.\n",
    "- Conv\n",
    "  - 형상을 유지\n",
    "  - CNN에서는 이미지처럼 형상을 가진 데이터를 제대로 이해할 수 있다.\n",
    "  - 입출력 데이터 , feature map\n",
    "    - input feature map\n",
    "    - output feature map"
   ]
  },
  {
   "cell_type": "markdown",
   "metadata": {},
   "source": [
    "## 7.2.2 합성곱 연산\n",
    "- 필터 연산\n",
    "  - 필터 == 커널\n",
    "  - 합성곱 연산은 필터의 윈도우를 일정 간격으로 이동해가며 입력 데이터에 적용\n",
    "    - 단일 곱셈 - 누산 (FMA, fused multiply-add)\n",
    "  - 필터의 매개변수가 가중치에 해당됨\n",
    "  - FMA 후에 편향을 더해줌   "
   ]
  },
  {
   "cell_type": "markdown",
   "metadata": {},
   "source": [
    "## 7.2.3 패딩\n",
    "- 합성곱 연산을 수행하기 전에 입력 데이터 주변을 특정 값으로 채움\n",
    "- 출력 크기를 조절하기 위해서\n",
    "- 합성곱 연산을 거칠 떄마다 크기가 작아지면 어느 시점에서는 출력 크기가 1이 되어버리는 문제"
   ]
  },
  {
   "cell_type": "markdown",
   "metadata": {},
   "source": [
    "## 7.2.4 스트라이드\n",
    "- 필터를 적용하는 위치의 간격 \n",
    "  - 필터가 움직이는 간격\n",
    "- 패딩, 스트라이드 -> 출력 크기\n",
    "  - 입력 크기 (H, W)\n",
    "  - 필터 크기 (FH, FW)\n",
    "  - 출력 크기 (OH, OW)\n",
    "  - 패딩 P, 스트라이드 S\n",
    "  - $OH = \\frac{H + 2P - FH}{S} + 1$\n",
    "  - $OW = \\frac{W + 2P - FW}{S} + 1$"
   ]
  },
  {
   "cell_type": "markdown",
   "metadata": {},
   "source": [
    "## 7.2.5 3차원 데이터의 합성곱 연산\n",
    "- 채널, 세로, 가로\n",
    "- 입력 데이터의 채널 수와 필터의 채널 수가 같아야 함"
   ]
  },
  {
   "cell_type": "markdown",
   "metadata": {},
   "source": [
    "## 7.2.6 블록으로 생각하기\n",
    "- 3차원의 합성곱 연산은 데이터와 필터를 직육면체 블록이라고 생각하면 쉽다\n",
    "- (C, H, W) $\\otimes$ (C, FH, FW) -> (OH, OW)\n",
    "  - 입력 데이터, 필터, 출력데이터 (한 장의 feature map)\n",
    "- 합성곱 연산의 출력으로 다수의 채널을 내보내려면 필터를 다수 사용해야 함\n",
    "- (C, H, W)  $\\otimes$ (FN, C, FH, FW) -> (FN, OH, OW) : 출력 데이터, 한 장의 특징 맵\n",
    "  - 입력 데이터,  필터 \n"
   ]
  }
 ],
 "metadata": {
  "kernelspec": {
   "display_name": "DLFS",
   "language": "python",
   "name": "python3"
  },
  "language_info": {
   "name": "python",
   "version": "3.9.17"
  },
  "orig_nbformat": 4
 },
 "nbformat": 4,
 "nbformat_minor": 2
}
