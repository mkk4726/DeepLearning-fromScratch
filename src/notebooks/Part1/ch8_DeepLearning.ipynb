{
 "cells": [
  {
   "cell_type": "markdown",
   "metadata": {},
   "source": [
    "층을 깊게 하는 이유\n",
    "- 신경망의 매개변수 수가 줄어든다.\n",
    "- 넓은 수용 영역을 소화할 수 있다.\n",
    "- 신경망의 표현력이 강화됨\n",
    "- 비선형 힘을 강화하고, 더 복잡한 것도 표현할 수 있게 됨\n",
    "- 학습의 효율성 \n",
    "- 학습해야하는 문제를 계층적으로 분해할 수 있다."
   ]
  },
  {
   "cell_type": "markdown",
   "metadata": {},
   "source": []
  }
 ],
 "metadata": {
  "language_info": {
   "name": "python"
  },
  "orig_nbformat": 4
 },
 "nbformat": 4,
 "nbformat_minor": 2
}
