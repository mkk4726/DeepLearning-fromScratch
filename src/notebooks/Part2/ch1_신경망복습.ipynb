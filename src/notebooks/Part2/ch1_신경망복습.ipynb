{
 "cells": [
  {
   "cell_type": "markdown",
   "metadata": {},
   "source": [
    "# 1.5 계산 고속화\n",
    "- 비트정밀도\n",
    "- GPU"
   ]
  },
  {
   "cell_type": "markdown",
   "metadata": {},
   "source": [
    "## 1.5.1 비트 정밀도\n",
    "- 넘파이의 부동소수점의 기본, 64bit data type\n",
    "- 신경망의 추론과 학습은 32비트 부도오수점 수로도 문제없이 수행할 수 잇다.\n",
    "- 메모리 관점 32bit > 64bit\n",
    "- bus bandwith이 병목되는 형상 예방 가능\n",
    "- 계산속도도 더 빠름\n",
    "- 16비트로 바꿔도 상관없음. \n",
    "- 다만, CPU와 GPU는 연산 자체를 32bit로 이뤄져서 처리 속도 측면에서는 혜택이 없을 수 있다.\n",
    "- 저장할 때는 여전히 16비트가 유효\n",
    "- 따라서, 저장하는 경우에만 16비트로 변환"
   ]
  },
  {
   "cell_type": "code",
   "execution_count": 1,
   "metadata": {},
   "outputs": [
    {
     "data": {
      "text/plain": [
       "dtype('float64')"
      ]
     },
     "execution_count": 1,
     "metadata": {},
     "output_type": "execute_result"
    }
   ],
   "source": [
    "import numpy as np\n",
    "\n",
    "a = np.random.randn(3)\n",
    "a.dtype"
   ]
  },
  {
   "cell_type": "code",
   "execution_count": 2,
   "metadata": {},
   "outputs": [
    {
     "data": {
      "text/plain": [
       "dtype('float32')"
      ]
     },
     "execution_count": 2,
     "metadata": {},
     "output_type": "execute_result"
    }
   ],
   "source": [
    "np.random.randn(3).astype(np.float32).dtype"
   ]
  },
  {
   "cell_type": "code",
   "execution_count": 3,
   "metadata": {},
   "outputs": [
    {
     "data": {
      "text/plain": [
       "dtype('float32')"
      ]
     },
     "execution_count": 3,
     "metadata": {},
     "output_type": "execute_result"
    }
   ],
   "source": [
    "np.random.randn(3).astype('f').dtype"
   ]
  },
  {
   "cell_type": "markdown",
   "metadata": {},
   "source": [
    "## 1.5.2 GPU(쿠파이) \n",
    "- 딥러닝 계산은 대량의 곱하기 연산으로 구성됨\n",
    "- 병렬로 계산 가능. -> GPU > CPU\n",
    "- 쿠파이, 파이썬 라이브러리. \n",
    "  - 엔비디아의 GPU에서만 작동\n",
    "  - CUDA라는 GPU 전용 범용 병렬 컴퓨팅 플랫폼을 설치해야 함"
   ]
  },
  {
   "cell_type": "code",
   "execution_count": null,
   "metadata": {},
   "outputs": [],
   "source": [
    "import cupy as np\n",
    "\n",
    "x = cp.arange(6).reshape(2, 3).astype('f')"
   ]
  }
 ],
 "metadata": {
  "kernelspec": {
   "display_name": "DLFS",
   "language": "python",
   "name": "python3"
  },
  "language_info": {
   "codemirror_mode": {
    "name": "ipython",
    "version": 3
   },
   "file_extension": ".py",
   "mimetype": "text/x-python",
   "name": "python",
   "nbconvert_exporter": "python",
   "pygments_lexer": "ipython3",
   "version": "3.9.17"
  },
  "orig_nbformat": 4
 },
 "nbformat": 4,
 "nbformat_minor": 2
}
