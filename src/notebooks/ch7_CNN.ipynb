{
 "cells": [
  {
   "cell_type": "markdown",
   "metadata": {},
   "source": [
    "# 7.1 전체구조\n",
    "- Conv, Polling\n",
    "- Affine - ReLU -> Conv - ReLU - (Pooling)"
   ]
  },
  {
   "cell_type": "markdown",
   "metadata": {},
   "source": [
    "# 7.2 합성곱 계층\n",
    "- Padding, Stride"
   ]
  },
  {
   "cell_type": "markdown",
   "metadata": {},
   "source": [
    "## 7.2.1 완전연결 계층의 문제점\n",
    "- Affine \n",
    "  - 데이터 형상이 무시된다. \n",
    "  - 이미지는 3차원 형상, 이 형상에는 소장한 공간적 정보가 담겨 있다.\n",
    "- Conv\n",
    "  - 형상을 유지\n",
    "  - CNN에서는 이미지처럼 형상을 가진 데이터를 제대로 이해할 수 있다.\n",
    "  - 입출력 데이터 , feature map\n",
    "    - input feature map\n",
    "    - output feature map"
   ]
  },
  {
   "cell_type": "markdown",
   "metadata": {},
   "source": [
    "## 7.2.2 합성곱 연산\n",
    "- 필터 연산\n",
    "  - 필터 == 커널\n",
    "  - 합성곱 연산은 필터의 윈도우를 일정 간격으로 이동해가며 입력 데이터에 적용\n",
    "    - 단일 곱셈 - 누산 (FMA, fused multiply-add)\n",
    "  - 필터의 매개변수가 가중치에 해당됨\n",
    "  - FMA 후에 편향을 더해줌   "
   ]
  },
  {
   "cell_type": "markdown",
   "metadata": {},
   "source": [
    "## 7.2.3 패딩\n",
    "- 합성곱 연산을 수행하기 전에 입력 데이터 주변을 특정 값으로 채움\n",
    "- 출력 크기를 조절하기 위해서\n",
    "- 합성곱 연산을 거칠 떄마다 크기가 작아지면 어느 시점에서는 출력 크기가 1이 되어버리는 문제"
   ]
  },
  {
   "cell_type": "markdown",
   "metadata": {},
   "source": [
    "## 7.2.4 스트라이드\n",
    "- 필터를 적용하는 위치의 간격 \n",
    "  - 필터가 움직이는 간격\n",
    "- 패딩, 스트라이드 -> 출력 크기\n",
    "  - 입력 크기 (H, W)\n",
    "  - 필터 크기 (FH, FW)\n",
    "  - 출력 크기 (OH, OW)\n",
    "  - 패딩 P, 스트라이드 S\n",
    "  - $OH = \\frac{H + 2P - FH}{S} + 1$\n",
    "  - $OW = \\frac{W + 2P - FW}{S} + 1$"
   ]
  },
  {
   "cell_type": "markdown",
   "metadata": {},
   "source": [
    "## 7.2.5 3차원 데이터의 합성곱 연산\n",
    "- 채널, 세로, 가로\n",
    "- 입력 데이터의 채널 수와 필터의 채널 수가 같아야 함"
   ]
  },
  {
   "cell_type": "markdown",
   "metadata": {},
   "source": [
    "## 7.2.6 블록으로 생각하기\n",
    "- 3차원의 합성곱 연산은 데이터와 필터를 직육면체 블록이라고 생각하면 쉽다\n",
    "\n",
    "- (C, H, W) $\\otimes$ (C, FH, FW) -> (OH, OW)\n",
    "  - 입력 데이터, 필터, 출력데이터 (한 장의 feature map)\n",
    "- 합성곱 연산의 출력으로 다수의 채널을 내보내려면 필터를 다수 사용해야 함\n",
    "\n",
    "- (C, H, W)  $\\otimes$ (FN, C, FH, FW) -> (FN, OH, OW) \n",
    "  - 입력 데이터,  필터 , 출력 데이터( FN개의 feature map )\n",
    "\n",
    "- 편향도 고려하면 다음과 같다.\n",
    "- (C, H, W)  $\\otimes$ (FN, C, FH, FW) -> (FN, OH, OW) + (FN, 1, 1) -> (FN, OH, OW)\n",
    "  - 입력 데이터,  필터 , 출력 데이터( FN개의 feature map ), 편향, 출력 데이터"
   ]
  },
  {
   "cell_type": "markdown",
   "metadata": {},
   "source": [
    "## 7.2.7 배치 처리\n",
    "- 각 계층을 흐르는 데이터의 차원을 하나 늘려 4차원 데이터로 저장\n",
    "- (N, C, H, W)  $\\otimes$ (FN, C, FH, FW) -> (N, FN, OH, OW) + (FN, 1, 1) -> (N, FN, OH, OW)\n",
    "- 주의할 점은, N회분의 처리가 한 번에 이루어진다는 것"
   ]
  },
  {
   "cell_type": "markdown",
   "metadata": {},
   "source": [
    "# 7.3 풀링 계층\n",
    "- 풀링은 새로, 가로 방향의 공간을 줄이는 연산\n",
    "- max pooling\n",
    "- 풀링의 윈도우 크기와 스트라이드는 같은 값으로 설정하는 것이 보통이다.\n",
    "- average pooling\n",
    "- 이미지 인식 분야에서는 주로 최대 풀링을 사용"
   ]
  },
  {
   "cell_type": "markdown",
   "metadata": {},
   "source": [
    "## 7.3.1 풀링 계층의 특징\n",
    "- 학습해야할 매개변수가 없다.\n",
    "- 채널 수가 변하지 않는다.\n",
    "- 입력의 변화에 영향을 적게 받는다 ( 강건하다 )"
   ]
  },
  {
   "cell_type": "markdown",
   "metadata": {},
   "source": [
    "# 7.4 합성곱/풀링 구현하기"
   ]
  },
  {
   "cell_type": "markdown",
   "metadata": {},
   "source": [
    "## 7.4.1 4차원 배열"
   ]
  },
  {
   "cell_type": "code",
   "execution_count": 2,
   "metadata": {},
   "outputs": [
    {
     "data": {
      "text/plain": [
       "(10, 1, 28, 28)"
      ]
     },
     "execution_count": 2,
     "metadata": {},
     "output_type": "execute_result"
    }
   ],
   "source": [
    "import numpy as np\n",
    "\n",
    "x = np.random.randn(10, 1, 28, 28)\n",
    "# N, C, H, W x FN, C, H, W -> FN, OH, OW + FN, 1, 1 -> FN, OH, OW\n",
    "x.shape"
   ]
  },
  {
   "cell_type": "markdown",
   "metadata": {},
   "source": [
    "## 7.4.2 im2col로 데이터 전개하기\n",
    "- 3차원 입력 데이터에 im2col을 적용하면 2차원 행렬로 바뀜 \n",
    "- im2col은 필터링하기 좋게 입력 데이터를 전개\n",
    "- 입력 데이터에서 필터를 적용하는 영역(3차원 블록)을 한줄로 늘어놓는다.\n",
    "- 필터의 적용 영역이 겹치는 경우가 대부분\n",
    "- im2col로 전개한 후의 원소 수가 원래 블록의 원소 수보다 많아진다.\n",
    "- 메모리를 더 많이 소비하는 단점\n",
    "- 출력 결과는 2차원 행렬. 다시 4차원으로 변형해줘야 함"
   ]
  },
  {
   "cell_type": "markdown",
   "metadata": {},
   "source": [
    "## 7.4.3 합성곱 계층 구현하기"
   ]
  },
  {
   "cell_type": "code",
   "execution_count": 3,
   "metadata": {},
   "outputs": [
    {
     "name": "stdout",
     "output_type": "stream",
     "text": [
      "(9, 75)\n"
     ]
    }
   ],
   "source": [
    "import numpy as np\n",
    "import sys, os\n",
    "sys.path.append('../modules/')\n",
    "from common.utils import im2col\n",
    "\n",
    "x1 = np.random.rand(1, 3, 7, 7) # N, C, H, W\n",
    "col1 = im2col(x1, 5, 5, stride=1, pad=0)\n",
    "print(col1.shape) # 필터가 적용되는 숫자 , C x H x W (필터의 원소 수)"
   ]
  },
  {
   "cell_type": "code",
   "execution_count": 4,
   "metadata": {},
   "outputs": [
    {
     "name": "stdout",
     "output_type": "stream",
     "text": [
      "(90, 75)\n"
     ]
    }
   ],
   "source": [
    "x2 = np.random.rand(10, 3, 7, 7)\n",
    "col2 = im2col(x2, 5, 5, stride=1, pad=0)\n",
    "print(col2.shape) # 필터가 적용되는 숫자 x N , C x H x W (필터의 원소 수)"
   ]
  },
  {
   "cell_type": "code",
   "execution_count": null,
   "metadata": {},
   "outputs": [],
   "source": [
    "class Convolution:\n",
    "  def __init__(self, W, b, stride=1, pad=0):\n",
    "    self.W = W\n",
    "    self.b = b\n",
    "    self.stride = stride\n",
    "    self.pad = pad\n",
    "    \n",
    "  def forward(self, x):\n",
    "    FN, C, FH, FW = self.W.shape\n",
    "    N, C, H, W = x.shape\n",
    "    out_h = int(1 + (H + 2*self.pad- FH) / self.stride)\n",
    "    out_w = int(1 + (W + 2*self.pad - FW) / self.stride)\n",
    "    \n",
    "    col = im2col(x, FH, FW, self.stride, self.pad)\n",
    "    col_W = self.W.reshape(FN, -1).T\n",
    "    out = np.dot(col, col_W) + self.b\n",
    "    \n",
    "    # N , H, W, FN -> N, FN, H, W\n",
    "    out = out.reshape(N, out_h, out_w, -1).transpose(0, 3, 1, 2)"
   ]
  },
  {
   "cell_type": "markdown",
   "metadata": {},
   "source": [
    "## 7.4.4 풀링 계층 구현하기\n",
    "- 합성곱 계층과 마찬가지로 im2col을 사용해 입력 데이터를 전개\n",
    "- 채널쪽이 독립적이라는 점이 차이점"
   ]
  },
  {
   "cell_type": "code",
   "execution_count": 5,
   "metadata": {},
   "outputs": [],
   "source": [
    "class Pooling:\n",
    "  def __init__(self, pool_h, pool_w, stride=1, pad=0):\n",
    "    self.pool_h = pool_h\n",
    "    self.pool_w = pool_w\n",
    "    self.stride = stride\n",
    "    self.pad = pad\n",
    "    \n",
    "  def forward(self, x):\n",
    "    N, C, H, W = x.shape\n",
    "    out_h = int(1 + (H - self.pool_h) / self.stride)\n",
    "    out_w = int(1 + (W - self.pool_w) / self.stride)\n",
    "    \n",
    "    col = im2col(x, self.pool_h, self.pool_w, self.stride, self.pad)\n",
    "    col = col.reshape(-1, self.pool_h*self.pool_w)\n",
    "    \n",
    "    out = np.max(col, axis=1)\n",
    "    \n",
    "    out = out.reshape(N, out_h, out_w, C).transpose(0, 3, 1, 2)\n",
    "    \n",
    "    return out"
   ]
  },
  {
   "cell_type": "markdown",
   "metadata": {},
   "source": [
    "# 7.5 CNN 구현하기\n",
    "Cov-ReLU-Pooling -> Affine-ReLU -> Affine-Softmax"
   ]
  },
  {
   "cell_type": "code",
   "execution_count": null,
   "metadata": {},
   "outputs": [],
   "source": [
    "from collections import OrderedDict\n",
    "\n",
    "class SimpleConvNet:\n",
    "  def __init__(self, \n",
    "                input_dim=(1, 28, 28), \n",
    "                conv_param={\n",
    "                 'filter_num':30, \n",
    "                 'filter_size':5, \n",
    "                 'pad': 0, \n",
    "                 'stride':1\n",
    "                },\n",
    "                hidden_size=100, output_Size=10, weight_init_std=0.01):\n",
    "    # size 세팅\n",
    "    filter_num = conv_param['filter_num']\n",
    "    filter_size = conv_param['filter_size']\n",
    "    filter_pad = conv_param['pad']\n",
    "    filter_stride = conv_param['stride']\n",
    "    input_size = input_dim[1]\n",
    "    conv_output_size = (input_size - filter_size + 2*filter_pad) / filter_stride + 1\n",
    "    pool_output_size = int(filter_num * (conv_output_size / 2) * (conv_output_size / 2))\n",
    "    \n",
    "    # 가중치 세팅\n",
    "    self.params = {}\n",
    "    self.params['W1'] = \\\n",
    "      weight_init_std * np.random.randn(filter_num, input_dim[0], filter_size, filter_size)\n",
    "    self.params['b1'] = np.zeros(filter_num)\n",
    "    self.params['W2'] = \\\n",
    "      weight_init_std * np.random.randn(pool_output_size, hidden_size)\n",
    "    self.params['b2'] = np.zeros(pool_output_size)\n",
    "    self.params['W3'] = \\\n",
    "      weight_init_std * np.random.randn(hidden_size, output_Size)\n",
    "    self.params['b3'] = np.zeros(output_Size)\n",
    "    \n",
    "    # layer 세팅\n",
    "    self.layers = OrderedDict()\n",
    "    self.layers['Conv1'] = Convolution(self.params['W1'], self.params['b1'], \n",
    "                                       conv_param['stride'], conv_param['pad'])\n",
    "    self.layers['Relu1'] = Relu()\n",
    "    self.layers['Pool1'] = Pooling(pool_h=2, pool_w=2, strid=2)\n",
    "    self.layers['Affine1'] = Affine(self.params['W2'], self.params['b2'])\n",
    "    self.layers['Relu2'] = Relu()\n",
    "    self.layers['Affine2'] = Affine(self.params['W3'], self.params['b3'])\n",
    "    \n",
    "    self.last_layer = SoftmaxWithLoss()\n",
    "    \n",
    "  def predict(self, x):\n",
    "    for layer in self.layers:\n",
    "      x = layer.forward(x)\n",
    "      \n",
    "    return x\n",
    "  \n",
    "  def loss(self, x, t):\n",
    "    y = self.predict(x)\n",
    "    return self.last_layer.forward(y, t)\n",
    "  \n",
    "  def gradient(self, x, t):\n",
    "    self.loss(x, t)\n",
    "    \n",
    "    dout = 1\n",
    "    dout = self.last_layer.backward(dout)\n",
    "    for layer in self.layers:\n",
    "      dout = \n",
    "  "
   ]
  }
 ],
 "metadata": {
  "kernelspec": {
   "display_name": "DLFS",
   "language": "python",
   "name": "python3"
  },
  "language_info": {
   "codemirror_mode": {
    "name": "ipython",
    "version": 3
   },
   "file_extension": ".py",
   "mimetype": "text/x-python",
   "name": "python",
   "nbconvert_exporter": "python",
   "pygments_lexer": "ipython3",
   "version": "3.9.17"
  },
  "orig_nbformat": 4
 },
 "nbformat": 4,
 "nbformat_minor": 2
}
