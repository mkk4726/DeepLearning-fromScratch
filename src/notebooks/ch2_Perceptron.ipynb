{
 "cells": [
  {
   "cell_type": "markdown",
   "metadata": {},
   "source": [
    "Perceptron\n",
    "- 다수의 신호를 입력받아 하나의 신호 출력\n",
    "- 신호는 0과 1의 두 가지 값을 가짐"
   ]
  },
  {
   "cell_type": "code",
   "execution_count": 21,
   "metadata": {},
   "outputs": [],
   "source": [
    "import numpy as np\n",
    "\n",
    "test_list = [(0, 0), (0, 1), (1, 0), (1, 1)]\n",
    "def get_test(func):\n",
    "  for test in test_list:\n",
    "    print(f\"{func.__name__}{test} : {func(*test)}\")"
   ]
  },
  {
   "cell_type": "code",
   "execution_count": 23,
   "metadata": {},
   "outputs": [
    {
     "name": "stdout",
     "output_type": "stream",
     "text": [
      "AND(0, 0) : 0\n",
      "AND(0, 1) : 0\n",
      "AND(1, 0) : 0\n",
      "AND(1, 1) : 1\n"
     ]
    }
   ],
   "source": [
    "# AND 게이트\n",
    "def AND(x1, x2):\n",
    "  w1, w2, theta = 0.5, 0.5, 0.7\n",
    "  tmp = x1*w1 + x2*w2\n",
    "  if tmp <= theta:\n",
    "    return 0\n",
    "  else:\n",
    "    return 1\n",
    "  \n",
    "get_test(AND)"
   ]
  },
  {
   "cell_type": "code",
   "execution_count": 29,
   "metadata": {},
   "outputs": [
    {
     "name": "stdout",
     "output_type": "stream",
     "text": [
      "AND(0, 0) : 0\n",
      "AND(0, 1) : 0\n",
      "AND(1, 0) : 0\n",
      "AND(1, 1) : 1\n",
      "NAND(0, 0) : 1\n",
      "NAND(0, 1) : 1\n",
      "NAND(1, 0) : 1\n",
      "NAND(1, 1) : 0\n",
      "OR(0, 0) : 0\n",
      "OR(0, 1) : 1\n",
      "OR(1, 0) : 1\n",
      "OR(1, 1) : 1\n"
     ]
    }
   ],
   "source": [
    "# 편향추가 , theta = -bias\n",
    "def AND(x1, x2):\n",
    "  x = np.array([x1, x2])\n",
    "  w = np.array([0.5, 0.5])\n",
    "  b = -0.7\n",
    "  tmp = np.sum(w*x) + b\n",
    "  if tmp <= 0: return 0\n",
    "  else: return 1\n",
    "  \n",
    "def NAND(x1, x2):\n",
    "  x = np.array([x1, x2])\n",
    "  w = np.array([-0.5, -0.5])\n",
    "  b = 0.7\n",
    "  \n",
    "  result = np.sum(w*x) + b\n",
    "  if result <= 0: return 0\n",
    "  else: return 1 \n",
    "  \n",
    "def OR(x1, x2):\n",
    "  x = np.array([x1, x2])\n",
    "  w = np.array([0.5, 0.5])\n",
    "  b = -0.2\n",
    "  \n",
    "  result = np.sum(w*x) + b\n",
    "  if result <= 0: return 0\n",
    "  else: return 1 \n",
    "\n",
    "get_test(AND)\n",
    "get_test(NAND)\n",
    "get_test(OR)"
   ]
  },
  {
   "cell_type": "code",
   "execution_count": 30,
   "metadata": {},
   "outputs": [
    {
     "name": "stdout",
     "output_type": "stream",
     "text": [
      "XOR(0, 0) : 0\n",
      "XOR(0, 1) : 1\n",
      "XOR(1, 0) : 1\n",
      "XOR(1, 1) : 0\n"
     ]
    }
   ],
   "source": [
    "# Perceptron의 한계. XOR(베타적 논리합)을 구현할 수 없음.\n",
    "# 비선형성이 필요 -> multi-layer perceptron\n",
    "def XOR(x1, x2):\n",
    "  s1 = NAND(x1, x2)\n",
    "  s2 = OR(x1, x2)\n",
    "  y = AND(s1, s2)\n",
    "  return y\n",
    "  \n",
    "get_test(XOR)"
   ]
  },
  {
   "cell_type": "markdown",
   "metadata": {},
   "source": [
    "- 단층 퍼셉트론으로는 표현하지 못한 것을 층을 하나 늘려 구현할 수 있게 되었다.\n",
    "- 이처럼 퍼셉트론은 층을 쌓아 더 다양한 것을 표현할 수 있다."
   ]
  },
  {
   "cell_type": "code",
   "execution_count": null,
   "metadata": {},
   "outputs": [],
   "source": []
  }
 ],
 "metadata": {
  "kernelspec": {
   "display_name": "DLFS",
   "language": "python",
   "name": "python3"
  },
  "language_info": {
   "codemirror_mode": {
    "name": "ipython",
    "version": 3
   },
   "file_extension": ".py",
   "mimetype": "text/x-python",
   "name": "python",
   "nbconvert_exporter": "python",
   "pygments_lexer": "ipython3",
   "version": "3.9.17"
  },
  "orig_nbformat": 4
 },
 "nbformat": 4,
 "nbformat_minor": 2
}
